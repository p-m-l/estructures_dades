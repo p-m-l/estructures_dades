{
 "cells": [
  {
   "cell_type": "code",
   "execution_count": 9,
   "id": "f9949f62",
   "metadata": {},
   "outputs": [
    {
     "data": {
      "text/plain": [
       "RandomForestClassifier()"
      ]
     },
     "execution_count": 9,
     "metadata": {},
     "output_type": "execute_result"
    }
   ],
   "source": [
    "#Exercici 1\n",
    "\n",
    "import pandas as pd\n",
    "from sklearn.model_selection import train_test_split\n",
    "from sklearn.neighbors import KNeighborsClassifier\n",
    "from sklearn.ensemble import RandomForestClassifier\n",
    "from sklearn.metrics import accuracy_score, confusion_matrix\n",
    "\n",
    "df = pd.read_csv(\"wineData.txt\", header=None)\n",
    "\n",
    "# Assignem les columnes a la data\n",
    "col_names = [\"Class\", \"Alcohol\", \"Malic acid\", \"Ash\", \"Alcalinity of ash\", \n",
    "             \"Magnesium\", \"Total phenols\", \"Flavanoids\", \"Nonflavanoid phenols\",\n",
    "             \"Proanthocyanins\", \"Color intensity\", \"Hue\", \"OD280/OD315 of diluted wines\",\n",
    "             \"Proline\"]\n",
    "df.columns = col_names\n",
    "\n",
    "\n",
    "X = df.drop(\"Class\", axis=1)\n",
    "y = df[\"Class\"]\n",
    "X_train, X_test, y_train, y_test = train_test_split(X, y, test_size=0.2, random_state=42)\n",
    "\n",
    "# Entrenem models de classificació diferents\n",
    "model1 = KNeighborsClassifier(n_neighbors=5)\n",
    "model1.fit(X_train, y_train)\n",
    "\n",
    "model2 = RandomForestClassifier(n_estimators=100)\n",
    "model2.fit(X_train, y_train)\n"
   ]
  },
  {
   "cell_type": "code",
   "execution_count": 11,
   "id": "cfffc772",
   "metadata": {},
   "outputs": [
    {
     "name": "stdout",
     "output_type": "stream",
     "text": [
      "Precisió de KNeighborsClassifier: 0.7222222222222222\n",
      "Precisió de RandomForestClassifier: 1.0\n",
      "El model Random Forest és millor.\n",
      "\n",
      "Confusion matrix of KNeighborsClassifier:\n",
      "[[12  0  2]\n",
      " [ 0 11  3]\n",
      " [ 2  3  3]]\n",
      "\n",
      "Confusion matrix of RandomForestClassifier:\n",
      "[[14  0  0]\n",
      " [ 0 14  0]\n",
      " [ 0  0  8]]\n"
     ]
    }
   ],
   "source": [
    "#Exercici 2\n",
    "\n",
    "# Prediccions\n",
    "y_pred1 = model1.predict(X_test)\n",
    "y_pred2 = model2.predict(X_test)\n",
    "\n",
    "# Evaluar la precisió dels models\n",
    "acc1 = accuracy_score(y_test, y_pred1)\n",
    "acc2 = accuracy_score(y_test, y_pred2)\n",
    "\n",
    "# Comparar la precisió dels models\n",
    "print(\"Precisió de KNeighborsClassifier:\", acc1)\n",
    "print(\"Precisió de RandomForestClassifier:\", acc2)\n",
    "\n",
    "# Escollim el model amb la precisió més alta\n",
    "if acc1 > acc2:\n",
    "    print('El model KNN és millor.')\n",
    "else:\n",
    "    print('El model Random Forest és millor.')\n",
    "\n",
    "# Calculem la matriu de confusió dels models\n",
    "conf_matrix1 = confusion_matrix(y_test, y_pred1)\n",
    "conf_matrix2 = confusion_matrix(y_test, y_pred2)\n",
    "\n",
    "# Printejar la matriu de confusió\n",
    "print(\"\\nConfusion matrix of KNeighborsClassifier:\")\n",
    "print(conf_matrix1)\n",
    "\n",
    "print(\"\\nConfusion matrix of RandomForestClassifier:\")\n",
    "print(conf_matrix2)\n"
   ]
  },
  {
   "cell_type": "code",
   "execution_count": 16,
   "id": "41617181",
   "metadata": {},
   "outputs": [
    {
     "name": "stdout",
     "output_type": "stream",
     "text": [
      "Millors paràmetres: {'C': 0.1, 'penalty': 'l2'}\n",
      "Precisió de validació: 0.9012315270935961\n"
     ]
    }
   ],
   "source": [
    "#Exercici 3\n",
    "\n",
    "from sklearn.model_selection import GridSearchCV\n",
    "from sklearn.linear_model import LogisticRegression\n",
    "\n",
    "param_grid = {'C': [0.001, 0.01, 0.1, 1, 10, 100, 1000], 'penalty': ['l1', 'l2']}\n",
    "logreg = LogisticRegression(solver='saga', max_iter=10000)\n",
    "logreg_cv = GridSearchCV(logreg, param_grid, cv=5)\n",
    "logreg_cv.fit(X_train, y_train)\n",
    "\n",
    "print(\"Millors paràmetres:\", logreg_cv.best_params_)\n",
    "print(\"Precisió de validació:\", logreg_cv.best_score_)\n",
    "\n"
   ]
  },
  {
   "cell_type": "code",
   "execution_count": 18,
   "id": "dfb8d656",
   "metadata": {},
   "outputs": [
    {
     "name": "stdout",
     "output_type": "stream",
     "text": [
      "Precisió mitjana: 0.8805418719211824\n",
      "Desviació estàndard de la precisió: 0.06458182562624086\n"
     ]
    }
   ],
   "source": [
    "#Exercici 4\n",
    "\n",
    "import numpy as np\n",
    "from sklearn.model_selection import cross_val_score\n",
    "\n",
    "scores = cross_val_score(logreg_cv, X_train, y_train, cv=5)\n",
    "print(\"Precisió mitjana:\", np.mean(scores))\n",
    "print(\"Desviació estàndard de la precisió:\", np.std(scores))\n"
   ]
  },
  {
   "cell_type": "code",
   "execution_count": 26,
   "id": "e8321783",
   "metadata": {},
   "outputs": [
    {
     "name": "stdout",
     "output_type": "stream",
     "text": [
      "Precisió (després de l'estandardització): 1.0 \n",
      "\n",
      "Això significa que el model té una precisió del 100% després de l'estandardització de les dades. Això és un resultat excel·lent i probablement indica que el model està sobreajustat. Pot ser útil avaluar el model en dades de prova per assegurar-se que la seva capacitat de generalització és bona.\n"
     ]
    }
   ],
   "source": [
    "#Exercici 5\n",
    "\n",
    "from sklearn.preprocessing import MinMaxScaler\n",
    "\n",
    "scaler = MinMaxScaler()\n",
    "X_train = scaler.fit_transform(X_train)\n",
    "X_test = scaler.transform(X_test)\n",
    "\n",
    "from sklearn.preprocessing import StandardScaler\n",
    "\n",
    "scaler = StandardScaler()\n",
    "X_train_scaled = scaler.fit_transform(X_train)\n",
    "X_test_scaled = scaler.transform(X_test)\n",
    "\n",
    "logreg_scaled = LogisticRegression()\n",
    "logreg_scaled.fit(X_train_scaled, y_train)\n",
    "\n",
    "y_pred_scaled = logreg_scaled.predict(X_test_scaled)\n",
    "accuracy_scaled = accuracy_score(y_test, y_pred_scaled)\n",
    "\n",
    "print(\"Precisió (després de l'estandardització):\", accuracy_scaled, \"\\n\\nAixò significa que el model té una precisió del 100% després de l'estandardització de les dades. Això és un resultat excel·lent i probablement indica que el model està sobreajustat. Pot ser útil avaluar el model en dades de prova per assegurar-se que la seva capacitat de generalització és bona.\")"
   ]
  },
  {
   "cell_type": "code",
   "execution_count": 22,
   "id": "216ef38e",
   "metadata": {},
   "outputs": [
    {
     "name": "stdout",
     "output_type": "stream",
     "text": [
      "Precisió en les dades de prova: 1.0\n"
     ]
    }
   ],
   "source": [
    "from sklearn.metrics import accuracy_score\n",
    "\n",
    "# entrenem el model en les dades d'entrenament normalitzades\n",
    "logreg_cv.fit(X_train_scaled, y_train)\n",
    "\n",
    "# Prediccions en les dades de prova\n",
    "y_pred = logreg_cv.predict(X_test_scaled)\n",
    "\n",
    "# Avaluem la precisió del model en les dades de prova\n",
    "test_accuracy = accuracy_score(y_test, y_pred)\n",
    "print(\"Precisió en les dades de prova:\", test_accuracy)\n"
   ]
  }
 ],
 "metadata": {
  "kernelspec": {
   "display_name": "Python 3 (ipykernel)",
   "language": "python",
   "name": "python3"
  },
  "language_info": {
   "codemirror_mode": {
    "name": "ipython",
    "version": 3
   },
   "file_extension": ".py",
   "mimetype": "text/x-python",
   "name": "python",
   "nbconvert_exporter": "python",
   "pygments_lexer": "ipython3",
   "version": "3.9.12"
  }
 },
 "nbformat": 4,
 "nbformat_minor": 5
}
