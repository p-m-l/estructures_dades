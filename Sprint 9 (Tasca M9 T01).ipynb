{
 "cells": [
  {
   "cell_type": "code",
   "execution_count": 28,
   "id": "2dbd5675",
   "metadata": {},
   "outputs": [
    {
     "name": "stdout",
     "output_type": "stream",
     "text": [
      "Text: \n",
      "Music has the power to evoke strong emotional responses in people, and over the years, \n",
      "it has undergone significant changes in its composition, style, and delivery. \n",
      "These changes have had a profound impact on the psychology of people's minds, influencing their emotions, behaviors, \n",
      "and even physical responses. For example, studies have shown that fast-paced, \n",
      "upbeat music can increase heart rate and energy levels, while slower, \n",
      "more calming music can help people relax and reduce stress. \n",
      "Additionally, music has the ability to trigger memories and associations, \n",
      "and can be used to create emotional connections between people and events, \n",
      "helping to strengthen social bonds and relationships. \n",
      "As such, music is a powerful tool for emotional expression and communication, \n",
      "and its continued evolution will undoubtedly have further impact on the psychology of people's minds in the future.\n",
      "\n",
      "Exercise 1: Frequency of words\n",
      "[(',', 16), ('and', 11), ('the', 6), ('people', 5), ('.', 5), ('to', 4), ('music', 4), ('has', 3), ('emotional', 3), ('in', 3)]\n"
     ]
    },
    {
     "data": {
      "image/png": "[encoded data removed]",
      "text/plain": [
       "<Figure size 432x288 with 1 Axes>"
      ]
     },
     "metadata": {
      "needs_background": "light"
     },
     "output_type": "display_data"
    },
    {
     "name": "stdout",
     "output_type": "stream",
     "text": [
      "\n",
      "Exercise 2: Stopwords and stemming\n",
      "['music', 'power', 'evok', 'strong', 'emot', 'respons', 'peopl', ',', 'year', ',', 'undergon', 'signific', 'chang', 'composit', ',', 'style', ',', 'deliveri', '.', 'chang', 'profound', 'impact', 'psycholog', 'peopl', \"'s\", 'mind', ',', 'influenc', 'emot', ',', 'behavior', ',', 'even', 'physic', 'respons', '.', 'exampl', ',', 'studi', 'shown', 'fast-pac', ',', 'upbeat', 'music', 'increas', 'heart', 'rate', 'energi', 'level', ',', 'slower', ',', 'calm', 'music', 'help', 'peopl', 'relax', 'reduc', 'stress', '.', 'addit', ',', 'music', 'abil', 'trigger', 'memori', 'associ', ',', 'use', 'creat', 'emot', 'connect', 'peopl', 'event', ',', 'help', 'strengthen', 'social', 'bond', 'relationship', '.', ',', 'music', 'power', 'tool', 'emot', 'express', 'commun', ',', 'continu', 'evolut', 'undoubtedli', 'impact', 'psycholog', 'peopl', \"'s\", 'mind', 'futur', '.']\n",
      "\n",
      "Filtered Text:\n",
      "Music power evoke strong emotional responses people , years , undergone significant changes composition , style , delivery . changes profound impact psychology people 's minds , influencing emotions , behaviors , even physical responses . example , studies shown fast-paced , upbeat music increase heart rate energy levels , slower , calming music help people relax reduce stress . Additionally , music ability trigger memories associations , used create emotional connections people events , helping strengthen social bonds relationships . , music powerful tool emotional expression communication , continued evolution undoubtedly impact psychology people 's minds future .\n",
      "\n",
      "Exercise 3: Sentiment analysis\n",
      "{'neg': 0.018, 'neu': 0.756, 'pos': 0.226, 'compound': 0.9771}\n",
      "Això indica que el text té un sentiment generalment positiu, ja que la puntuació de 'pos' de 0,226 \n",
      "és més gran que la puntuació de 'neg' de 0,018. La puntuació de 'neu' de 0,756 suggereix que el text és \n",
      "principalment neutral, mentre que la puntuació composta de 0,9771 indica un fort sentiment generalment positiu.\n",
      "Si tinguèssim un text amb més emoció darrere, per exemple, en el cas del 'neu', el seu valor baixaria \n",
      "i els valors de 'pos' i/o 'neg', variarien segons la emoció.\n",
      "\n",
      "\n",
      "\n",
      "Credentials for NLTK use:\n",
      "Bird, Steven, Edward Loper and Ewan Klein (2009), Natural Language Processing with Python. O’Reilly Media Inc.\n"
     ]
    }
   ],
   "source": [
    "import nltk\n",
    "from nltk.corpus import stopwords\n",
    "from nltk.tokenize import word_tokenize\n",
    "from nltk.stem import PorterStemmer\n",
    "from nltk.sentiment import SentimentIntensityAnalyzer\n",
    "import matplotlib.pyplot as plt\n",
    "\n",
    "# Define the text to be analyzed\n",
    "text = \"\"\"Music has the power to evoke strong emotional responses in people, and over the years, \n",
    "it has undergone significant changes in its composition, style, and delivery. \n",
    "These changes have had a profound impact on the psychology of people's minds, influencing their emotions, behaviors, \n",
    "and even physical responses. For example, studies have shown that fast-paced, \n",
    "upbeat music can increase heart rate and energy levels, while slower, \n",
    "more calming music can help people relax and reduce stress. \n",
    "Additionally, music has the ability to trigger memories and associations, \n",
    "and can be used to create emotional connections between people and events, \n",
    "helping to strengthen social bonds and relationships. \n",
    "As such, music is a powerful tool for emotional expression and communication, \n",
    "and its continued evolution will undoubtedly have further impact on the psychology of people's minds in the future.\"\"\"\n",
    "\n",
    "print(\"Text: \")\n",
    "print(text)\n",
    "\n",
    "#EXERCICI 1\n",
    "\n",
    "# Tokenize the text into individual words\n",
    "tokens = word_tokenize(text)\n",
    "\n",
    "# Calculate the frequency of each word\n",
    "freq_dist = nltk.FreqDist(tokens)\n",
    "most_common = freq_dist.most_common(10)\n",
    "\n",
    "# Print the most common 10 words and their frequencies\n",
    "print(\"\\nExercise 1: Frequency of words\")\n",
    "print(most_common)\n",
    "\n",
    "# Plot the most common 30 words and their frequencies\n",
    "freq_dist.plot(30,cumulative=False)\n",
    "plt.show()\n",
    "\n",
    "#EXERCICI 2\n",
    "\n",
    "# Define the stopwords to be removed\n",
    "stop_words = set(stopwords.words('english'))\n",
    "\n",
    "# Remove the stopwords from the text\n",
    "filtered_tokens = [word for word in tokens if not word.lower() in stop_words]\n",
    "\n",
    "# Stem the remaining words using the Porter stemmer\n",
    "stemmer = PorterStemmer()\n",
    "stemmed_tokens = [stemmer.stem(word) for word in filtered_tokens]\n",
    "\n",
    "# Print the stemmed tokens\n",
    "print(\"\\nExercise 2: Stopwords and stemming\")\n",
    "print(stemmed_tokens)\n",
    "# Join the filtered tokens back into a string\n",
    "filtered_text = \" \".join(filtered_tokens)\n",
    "\n",
    "# Print the filtered text\n",
    "print(\"\\nFiltered Text:\")\n",
    "print(filtered_text)\n",
    "\n",
    "#EXERCICI 3\n",
    "\n",
    "# Perform sentiment analysis on the text\n",
    "analyzer = SentimentIntensityAnalyzer()\n",
    "sentiment = analyzer.polarity_scores(text)\n",
    "\n",
    "# Print the sentiment scores\n",
    "print(\"\\nExercise 3: Sentiment analysis\")\n",
    "print(sentiment)\n",
    "print(\"\"\"Això indica que el text té un sentiment generalment positiu, ja que la puntuació de 'pos' de 0,226 \n",
    "és més gran que la puntuació de 'neg' de 0,018. La puntuació de 'neu' de 0,756 suggereix que el text és \n",
    "principalment neutral, mentre que la puntuació composta de 0,9771 indica un fort sentiment generalment positiu.\n",
    "Si tinguèssim un text amb més emoció darrere, per exemple, en el cas del 'neu', el seu valor baixaria \n",
    "i els valors de 'pos' i/o 'neg', variarien segons la emoció.\\n\"\"\")\n",
    "\n",
    "\n",
    "print(\"\\n\\nCredentials for NLTK use:\")\n",
    "print(\"Bird, Steven, Edward Loper and Ewan Klein (2009), Natural Language Processing with Python. O’Reilly Media Inc.\")"
   ]
  }
 ],
 "metadata": {
  "kernelspec": {
   "display_name": "Python 3 (ipykernel)",
   "language": "python",
   "name": "python3"
  },
  "language_info": {
   "codemirror_mode": {
    "name": "ipython",
    "version": 3
   },
   "file_extension": ".py",
   "mimetype": "text/x-python",
   "name": "python",
   "nbconvert_exporter": "python",
   "pygments_lexer": "ipython3",
   "version": "3.9.12"
  }
 },
 "nbformat": 4,
 "nbformat_minor": 5
}
