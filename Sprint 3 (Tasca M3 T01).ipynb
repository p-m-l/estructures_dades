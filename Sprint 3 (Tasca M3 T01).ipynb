{
 "cells": [
  {
   "cell_type": "code",
   "execution_count": 4,
   "id": "d504a108",
   "metadata": {},
   "outputs": [
    {
     "name": "stdout",
     "output_type": "stream",
     "text": [
      "Error: the array has more than 1 dimension\n"
     ]
    }
   ],
   "source": [
    "#Exercici 1\n",
    "\n",
    "import numpy as np\n",
    "\n",
    "def Exercici1():\n",
    "    a =  np.array([[1,1,1],[2,2,2],[3,3,3]])\n",
    "    if len(a.shape)>1:\n",
    "        print(\"Error: the array has more than 1 dimension\")\n",
    "Exercici1()"
   ]
  },
  {
   "cell_type": "code",
   "execution_count": 9,
   "id": "44413284",
   "metadata": {},
   "outputs": [
    {
     "name": "stdout",
     "output_type": "stream",
     "text": [
      "[[70 54 62 76]\n",
      " [51 28 92 31]\n",
      " [53 38  1 73]\n",
      " [66 59 42 12]]\n"
     ]
    }
   ],
   "source": [
    "#Exercici 2\n",
    "\n",
    "def Exercici2():\n",
    "    matrix = np.random.randint(0,100,size=(4,4))\n",
    "    print(matrix)\n",
    "Exercici2()"
   ]
  },
  {
   "cell_type": "code",
   "execution_count": 19,
   "id": "718be7cb",
   "metadata": {},
   "outputs": [
    {
     "name": "stdout",
     "output_type": "stream",
     "text": [
      "[[1 7 9 0]\n",
      " [5 4 1 4]\n",
      " [4 1 4 9]]\n",
      "SUM Fila: [17 14 18]\n",
      "SUM Columna: [10 12 14 13]\n"
     ]
    }
   ],
   "source": [
    "#Exercici 3\n",
    "\n",
    "matrix = np.random.randint(0,10,size=(3,4))\n",
    "def Exercici3(matrix):\n",
    "    print(matrix)\n",
    "    print(\"SUM Fila:\",np.sum(matrix, axis=1))\n",
    "    print(\"SUM Columna:\",np.sum(matrix, axis=0))\n",
    "Exercici3(matrix)"
   ]
  },
  {
   "cell_type": "code",
   "execution_count": 22,
   "id": "2f17996f",
   "metadata": {},
   "outputs": [
    {
     "name": "stdout",
     "output_type": "stream",
     "text": [
      "          A         B         C\n",
      "A  1.000000  0.269442  0.793270\n",
      "B  0.269442  1.000000 -0.063374\n",
      "C  0.793270 -0.063374  1.000000\n"
     ]
    }
   ],
   "source": [
    "#Exercici 4\n",
    "\n",
    "import pandas as pd\n",
    "\n",
    "def Exercici4():\n",
    "    data = {'A': [12,8,67,16,2],\n",
    "            'B': [19,47,36,13,22],\n",
    "            'C': [5,12,76,56,27]\n",
    "            }\n",
    "    df = pd.DataFrame(data,columns=['A','B','C'])\n",
    "    correlacio = df.corr()\n",
    "    print (correlacio)\n",
    "  \n",
    "Exercici4()"
   ]
  }
 ],
 "metadata": {
  "kernelspec": {
   "display_name": "Python 3 (ipykernel)",
   "language": "python",
   "name": "python3"
  },
  "language_info": {
   "codemirror_mode": {
    "name": "ipython",
    "version": 3
   },
   "file_extension": ".py",
   "mimetype": "text/x-python",
   "name": "python",
   "nbconvert_exporter": "python",
   "pygments_lexer": "ipython3",
   "version": "3.9.12"
  }
 },
 "nbformat": 4,
 "nbformat_minor": 5
}
