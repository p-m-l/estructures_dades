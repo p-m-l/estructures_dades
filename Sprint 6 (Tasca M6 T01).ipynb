{
 "cells": [
  {
   "cell_type": "code",
   "execution_count": 46,
   "id": "5b2b3bae",
   "metadata": {},
   "outputs": [
    {
     "name": "stdout",
     "output_type": "stream",
     "text": [
      "[15.05546601 23.33341089 24.49055572 32.82112698  9.17538101 28.35411342\n",
      " 16.27159503 24.41464788 19.96278166 20.30871849 19.33720147 24.27891872\n",
      " 27.97113648 22.50422583 16.91796743 23.74218226 14.20411468 18.17779696\n",
      " 30.46755836 32.91463083 32.58124074 19.56348185 18.62984519 19.0361473\n",
      " 23.87754377 20.9972879  17.47624276 25.15479735 23.25467926 14.44308274\n",
      " 20.82192971 18.85669457 18.84305527 20.56052279 35.32972437 32.394027\n",
      " 31.24736115 37.07012522 30.49487337  4.93880256 17.15034552 17.07265809\n",
      " 14.3294022  16.45446869 35.3994162  29.27889777 11.73804702  7.44871684\n",
      " 32.69506874 21.82678415 17.94117068 24.65947569 30.60179059 17.3073091\n",
      " 11.38347227 12.59860367 25.56385639 10.34220464 22.5824459  22.7428837\n",
      " 24.99008197 38.1722005  20.11922316 17.42792345 22.1767473  25.38509095\n",
      " 25.14096457 22.69224033 20.71016963 13.45453185 18.94135646 30.73624923\n",
      " 27.96417425 25.23660676 20.60953552 30.202195   23.4210497  21.74549395\n",
      " 21.2102679  29.98578499 25.73115226  9.20336158 15.75900957 11.70805334\n",
      " 17.58831644 14.11741763 18.37006485 34.98986595 24.3468983  27.47548972\n",
      " 14.29542478 17.95766509 18.96934681 41.36310225 15.40387346 15.02817938\n",
      " 31.46281388 29.38335983 15.07443718 20.62326719 19.84733238 26.91135184] [11.173 20.677 20.267 28.929 13.171 34.778 15.828 23.858 21.754 20.574\n",
      " 20.575 21.524 30.071 21.307 15.09  22.374 13.615 19.89  28.04  32.785\n",
      " 34.109 19.267 18.014 14.942 38.919 20.093 15.106 23.892 19.865 14.49\n",
      " 20.805 19.726 19.9   20.797 41.962 31.086 26.752 34.334 26.136 13.571\n",
      " 14.652 10.76  20.252 15.278 43.881 22.414 22.774  7.254 30.163 21.438\n",
      " 11.286 21.676 33.834 15.305  9.433 14.384 30.264 17.856 20.535 22.594\n",
      " 23.871 46.72  21.44  18.5   21.478 23.647 21.46  24.743 20.406 16.4\n",
      " 14.826 39.872 34.821 21.539 19.564 24.418 20.758 20.773 18.454 28.146\n",
      " 22.144 13.952 12.701  9.958 17.731 15.159 15.225 32.092 23.974 24.413\n",
      " 12.005 20.426 19.837 47.792 15.846 15.248 29.817 25.579 13.834 19.532\n",
      " 18.184 27.537]\n"
     ]
    },
    {
     "data": {
      "image/png": "[encoded data removed]",
      "text/plain": [
       "<Figure size 432x288 with 1 Axes>"
      ]
     },
     "metadata": {
      "needs_background": "light"
     },
     "output_type": "display_data"
    }
   ],
   "source": [
    "#Exercici 1\n",
    "\n",
    "#Importem les llibreries necessàries\n",
    "import matplotlib.pyplot as plt\n",
    "import pandas as pd\n",
    "import numpy as np\n",
    "from sklearn.linear_model import LinearRegression\n",
    "from sklearn.ensemble import RandomForestRegressor\n",
    "from sklearn.model_selection import train_test_split\n",
    "#Llegim el conjunt de dades i el guardem en un dataframe\n",
    "\n",
    "# carreguem el dataset\n",
    "col_names = [\"CRIM\", \"ZN\", \"INDUS\", \"CHAS\", \"NOX\", \"RM\", \"AGE\", \"DIS\", \"RAD\", \"TAX\", \"PTRATIO\", \"B\", \"LSTAT\", \"MEDV\"]\n",
    "dataset = pd.read_csv(\"housing data.csv\", names=col_names)\n",
    "\n",
    "# separam el dataset en conjunts de train i test\n",
    "X = dataset.drop(\"MEDV\", axis=1)  # seleccionam totes les columnes excepte MEDV com a variables independents\n",
    "y = dataset[\"MEDV\"]  # seleccionam MEDV com a variable dependent\n",
    "\n",
    "#Dividim el conjunt de dades en dos subconjunts: entrenament i test\n",
    "\n",
    "X_train, X_test, y_train, y_test = train_test_split(X, y, test_size=0.2)\n",
    "\n",
    "# crear els models\n",
    "reg = LinearRegression()\n",
    "rfr = RandomForestRegressor()\n",
    "\n",
    "# entrenar els models amb el conjunt de dades de train\n",
    "reg.fit(X_train, y_train)\n",
    "rfr.fit(X_train, y_train)\n",
    "# fer prediccions amb els models utilitzant el conjunt de dades de test\n",
    "y_pred_reg = reg.predict(X_test)\n",
    "y_pred_rfr = rfr.predict(X_test)\n",
    "\n",
    "print(y_pred_reg,y_pred_rfr)\n",
    "#Evaluem la precisió dels models de regressió amb el conjunt de test\n",
    "\n",
    "\n",
    "# gràfic de dispersió amb els valors reals de y_test en l'eix Y i les prediccions de cada model en l'eix X\n",
    "plt.scatter(y_pred_reg, y_test, alpha=0.5, label=\"model de regressió lineal\")\n",
    "plt.scatter(y_pred_rfr, y_test, alpha=0.5, label=\"model de regressió amb random forest\")\n",
    "plt.title(\"Predicció del preu de les vivendes (MEDV)\")\n",
    "plt.xlabel(\"Predicció\")\n",
    "plt.ylabel(\"Valor real\")\n",
    "plt.legend()\n",
    "plt.show()\n"
   ]
  },
  {
   "cell_type": "code",
   "execution_count": 47,
   "id": "393b3fda",
   "metadata": {},
   "outputs": [
    {
     "name": "stdout",
     "output_type": "stream",
     "text": [
      "MSE model de regressió lineal: 31.101873500692392\n",
      "R2 model de regressió lineal: 0.6405366993127615\n",
      "MSE model de regressió amb random forest: 13.023922382352941\n",
      "R2 model de regressió amb random forest: 0.8494745942764261\n"
     ]
    }
   ],
   "source": [
    "#Exercici 2\n",
    "\n",
    "# importar les funcions mean_squared_error i r2_score\n",
    "from sklearn.metrics import mean_squared_error, r2_score\n",
    "\n",
    "# calcular el MSE i el R2 per a cada model\n",
    "mse_reg = mean_squared_error(y_test, y_pred_reg)\n",
    "r2_reg = r2_score(y_test, y_pred_reg)\n",
    "\n",
    "mse_rfr = mean_squared_error(y_test, y_pred_rfr)\n",
    "r2_rfr = r2_score(y_test, y_pred_rfr)\n",
    "\n",
    "# imprimir els resultats\n",
    "print(\"MSE model de regressió lineal:\", mse_reg)\n",
    "print(\"R2 model de regressió lineal:\", r2_reg)\n",
    "\n",
    "print(\"MSE model de regressió amb random forest:\", mse_rfr)\n",
    "print(\"R2 model de regressió amb random forest:\", r2_rfr)"
   ]
  },
  {
   "cell_type": "code",
   "execution_count": 48,
   "id": "b3f9e3fd",
   "metadata": {},
   "outputs": [
    {
     "name": "stdout",
     "output_type": "stream",
     "text": [
      "MSE model de regressió lineal: 554.7251512946468\n",
      "R2 model de regressió lineal: -6.564387481304515\n",
      "Puntuacions de validació cruïlla model de regressió lineal: [ -24.85873967  -28.21586566  -15.1909724   -11.46223741 -175.02494407]\n"
     ]
    }
   ],
   "source": [
    "#Exercici 3 i 4\n",
    "\n",
    "# importar les funcions train_test_split i StandardScaler\n",
    "from sklearn.model_selection import train_test_split\n",
    "from sklearn.preprocessing import StandardScaler\n",
    "\n",
    "# dividir el conjunt de dades en train i test\n",
    "X_train, X_test, y_train, y_test = train_test_split(X, y, test_size=0.2, random_state=42)\n",
    "\n",
    "# estandarditzar les variables d'entrada\n",
    "scaler = StandardScaler()\n",
    "X_train_scaled = scaler.fit_transform(X_train)\n",
    "X_test_scaled = scaler.transform(X_test)\n",
    "X_scaled = scaler.fit_transform(X)\n",
    "\n",
    "# importar les funcions LinearRegression i RandomForestRegressor\n",
    "from sklearn.linear_model import LinearRegression\n",
    "from sklearn.ensemble import RandomForestRegressor\n",
    "\n",
    "# crear els models amb diferents paràmetres\n",
    "reg = LinearRegression(fit_intercept=False)\n",
    "rfr = RandomForestRegressor(n_estimators=100, max_depth=5)\n",
    "\n",
    "# entrenar el model de regressió lineal amb les variables d'entrada estandarditzades\n",
    "reg.fit(X_train_scaled, y_train)\n",
    "\n",
    "# fer prediccions amb el model entrenat\n",
    "y_pred_reg = reg.predict(X_test_scaled)\n",
    "\n",
    "# calcular el MSE i el R2 per al model de regressió lineal\n",
    "mse_reg = mean_squared_error(y_test, y_pred_reg)\n",
    "r2_reg = r2_score(y_test, y_pred_reg)\n",
    "\n",
    "# imprimir els resultats\n",
    "print(\"MSE model de regressió lineal:\", mse_reg)\n",
    "print(\"R2 model de regressió lineal:\", r2_reg)\n",
    "\n",
    "# importar la funció cross_val_score\n",
    "from sklearn.model_selection import cross_val_score\n",
    "\n",
    "# obtenir diferents puntuacions de validació cruïlla per al model de regressió lineal estandarditzat\n",
    "scores_reg = cross_val_score(reg, X_scaled, y, cv=5)\n",
    "\n",
    "# imprimir les puntuacions\n",
    "print(\"Puntuacions de validació cruïlla model de regressió lineal:\", scores_reg)\n",
    "\n",
    "#Sobre el MSE: Tenim un valor del MSE bastant gran, cosa que vol dir que no és molt precís\n",
    "#Sobre el R2: No explica gaire la variabilitat dels valors observats.\n",
    "#Sobre els scores de validació cruïlla: indiquen que el model està fent prediccions molt pobres."
   ]
  },
  {
   "cell_type": "code",
   "execution_count": 49,
   "id": "9deb3581",
   "metadata": {},
   "outputs": [
    {
     "name": "stdout",
     "output_type": "stream",
     "text": [
      "MSE millor model: 24.291119474973467\n",
      "R2 millor model: 0.6687594935356327\n",
      "Puntuacions de validació cruïlla millor model: [ 0.63919994  0.71386698  0.58702344  0.07923081 -0.25294154]\n"
     ]
    }
   ],
   "source": [
    "#MILLOREM ELS RESULTATS DE LA REGRESSIÓ LINEAL\n",
    "\n",
    "from sklearn.model_selection import GridSearchCV\n",
    "\n",
    "# definir els paràmetres a optimitzar i els possibles valors\n",
    "param_grid = {'fit_intercept': [True, False]}\n",
    "\n",
    "# crear una instància de GridSearchCV\n",
    "reg = LinearRegression()\n",
    "grid_search = GridSearchCV(reg, param_grid, cv=5)\n",
    "\n",
    "# entrenar el model amb els diferents paràmetres\n",
    "grid_search.fit(X_train, y_train)\n",
    "\n",
    "# obtenir el millor model\n",
    "best_model = grid_search.best_estimator_\n",
    "\n",
    "# fer prediccions amb el millor model\n",
    "y_pred = best_model.predict(X_test)\n",
    "\n",
    "# calcular el MSE i el R2\n",
    "mse = mean_squared_error(y_test, y_pred)\n",
    "r2 = r2_score(y_test, y_pred)\n",
    "\n",
    "# imprimir els resultats\n",
    "print(\"MSE millor model:\", mse)\n",
    "print(\"R2 millor model:\", r2)\n",
    "\n",
    "# importar la funció cross_val_score\n",
    "from sklearn.model_selection import cross_val_score\n",
    "\n",
    "# obtenir diferents puntuacions de validació cruïlla per al millor model de regressió lineal\n",
    "scores = cross_val_score(best_model, X, y, cv=5)\n",
    "\n",
    "# imprimir les puntuacions\n",
    "print(\"Puntuacions de validació cruïlla millor model:\", scores)\n",
    "\n",
    "#Es pot veure que el MSE i el R2 han millorat respecte als resultats obtinguts en la primera execució del model \n",
    "#de regressió lineal. Això indica que amb els paràmetres optimitzats s'ha obtingut un model de regressió lineal \n",
    "#que funciona millor que amb els paràmetres per defecte.\n",
    "#Les puntuacions de validació cruïlla també han millorat, ja que s'han obtingut valors més propers a 1. \n",
    "#Això indica que el model generalitza bé a dades noves, ja que les puntuacions de validació cruïlla es fan servir \n",
    "#per evaluar el rendiment del model amb dades que no s'han utilitzat per entrenar-lo."
   ]
  },
  {
   "cell_type": "code",
   "execution_count": 55,
   "id": "797cf706",
   "metadata": {},
   "outputs": [
    {
     "name": "stdout",
     "output_type": "stream",
     "text": [
      "MSE millor model sense RM: 22.133246888189817\n",
      "R2 millor model sense RM: 0.6981848483146994\n",
      "Puntuacions de validació cruïlla millor model sense RM: [0.46450601 0.61522064 0.43616681 0.57879898 0.37296639]\n"
     ]
    }
   ],
   "source": [
    "#Exercici 5\n",
    "\n",
    "X_train_no_rm = X_train.drop(columns=[\"RM\"])\n",
    "X_test_no_rm = X_test.drop(columns=[\"RM\"])\n",
    "\n",
    "best_model.fit(X_train_no_rm, y_train)\n",
    "y_pred = best_model.predict(X_test_no_rm)\n",
    "mse = mean_squared_error(y_test, y_pred)\n",
    "r2 = r2_score(y_test, y_pred)\n",
    "print(\"MSE millor model sense RM:\", mse)\n",
    "print(\"R2 millor model sense RM:\", r2)\n",
    "scores = cross_val_score(best_model, X.drop(columns=[\"RM\"]), y, cv=5)\n",
    "\n",
    "\n",
    "print(\"Puntuacions de validació cruïlla millor model sense RM:\", scores)\n",
    "\n",
    "#Veiem que ha millorat una mica\n",
    "#També podriem millorar els resultat utilizant per exemple el random forest i/o executant múltiples iteracions del Exercici1"
   ]
  }
 ],
 "metadata": {
  "kernelspec": {
   "display_name": "Python 3 (ipykernel)",
   "language": "python",
   "name": "python3"
  },
  "language_info": {
   "codemirror_mode": {
    "name": "ipython",
    "version": 3
   },
   "file_extension": ".py",
   "mimetype": "text/x-python",
   "name": "python",
   "nbconvert_exporter": "python",
   "pygments_lexer": "ipython3",
   "version": "3.9.12"
  }
 },
 "nbformat": 4,
 "nbformat_minor": 5
}
