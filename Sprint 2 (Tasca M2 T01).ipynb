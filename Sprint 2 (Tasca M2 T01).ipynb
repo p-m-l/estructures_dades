{
 "cells": [
  {
   "cell_type": "code",
   "execution_count": 15,
   "id": "1f4e7c0b",
   "metadata": {},
   "outputs": [
    {
     "name": "stdout",
     "output_type": "stream",
     "text": [
      "[['gener', 'febrer', 'març'], ['abril', 'maig', 'juny'], ['juliol', 'agost', 'setembre'], ['octubre', 'novembre', 'desembre']]\n"
     ]
    }
   ],
   "source": [
    "#EXERCICI 1\n",
    "\n",
    "\n",
    "\n",
    "T1=['gener','febrer','març']\n",
    "T2=['abril','maig','juny']\n",
    "T3=['juliol','agost','setembre']\n",
    "T4=['octubre','novembre','desembre']\n",
    "\n",
    "ListTrim=[]\n",
    "ListTrim.append(T1)\n",
    "ListTrim.append(T2)\n",
    "ListTrim.append(T3)\n",
    "ListTrim.append(T4)\n",
    "\n",
    "print(ListTrim)"
   ]
  },
  {
   "cell_type": "code",
   "execution_count": 96,
   "id": "1c256596",
   "metadata": {},
   "outputs": [
    {
     "name": "stdout",
     "output_type": "stream",
     "text": [
      "febrer\n",
      "['gener', 'febrer', 'març']\n",
      "Not found\n",
      "Not found\n",
      "Found setembre\n"
     ]
    }
   ],
   "source": [
    "#EXERCICI 2\n",
    "\n",
    "#El segon mes del primer trimestre.\n",
    "SegonMesDeT1=ListTrim[0][1]\n",
    "print(SegonMesDeT1)\n",
    "\n",
    "#Els mesos del primer trimestre.\n",
    "MesosT1=ListTrim[0]\n",
    "print(MesosT1)\n",
    "\n",
    "#Setembre i octubre.\n",
    "k=0\n",
    "j=0\n",
    "while k<len(ListTrim):\n",
    "    while j<len(ListTrim[j]):\n",
    "        if 'setembre'==ListTrim[k][j] or 'octubre'==ListTrim[k][j]:\n",
    "            print('Found',ListTrim[k][j])\n",
    "            break\n",
    "        else:\n",
    "            print('Not found')\n",
    "            k=k+1\n",
    "            j=j+1\n",
    "    break\n"
   ]
  },
  {
   "cell_type": "code",
   "execution_count": 95,
   "id": "2ae9ba8d",
   "metadata": {},
   "outputs": [
    {
     "name": "stdout",
     "output_type": "stream",
     "text": [
      "LLISTA DE NÚMEROS:  [2, 7, 5, 8, 6, 9, 3, 5, 5, 3]\n",
      "- Hi han 7 números diferents a la llista\n",
      "- 2 tresos a la llista: \n",
      "- 2 vegades apareixen un 3 i/o un 4 a la llista: \n",
      "- 9 és el més gran\n",
      "- 2 3 3 són els números més petits\n",
      "- Hi han 10 elements a la llista\n"
     ]
    }
   ],
   "source": [
    "#EXERCICI 3\n",
    "\n",
    "from collections import Counter\n",
    "import random\n",
    "import numpy as np\n",
    "\n",
    "ListNum=(np.random.randint(1,10,size=10)).tolist()\n",
    "\n",
    "print(\"LLISTA DE NÚMEROS: \",ListNum)\n",
    "#Quants números hi ha?\n",
    "unique = list(set(ListNum))\n",
    "print(\"- Hi han\",len(unique),\"números diferents a la llista\")\n",
    "\n",
    "#Quantes vegades apareix el número 3.\n",
    "c=0\n",
    "for i in ListNum:\n",
    "    if i==3:\n",
    "        c=c+1\n",
    "print(\"-\",c, \"tresos a la llista: \")\n",
    "\n",
    "#Quantes vegades apareixen els nombres 3 i 4?\n",
    "c=0\n",
    "for i in ListNum:\n",
    "    if i==3:\n",
    "        c=c+1\n",
    "    elif i==4:\n",
    "        c=c+1\n",
    "print(\"-\",c, \"vegades apareixen un 3 i/o un 4 a la llista: \")\n",
    "\n",
    "\n",
    "#Quin és el número més gran?\n",
    "print(\"-\",max(ListNum),\"és el més gran\")\n",
    "\n",
    "#Quins són els 3 números més petits?\n",
    "SortedList=ListNum.sort()\n",
    "print(\"-\",ListNum[0],ListNum[1],ListNum[2],\"són els números més petits\")\n",
    "\n",
    "#Quin és el rang d’aquesta llista?\n",
    "print(\"- Hi han\",len(ListNum),\"elements a la llista\")\n"
   ]
  },
  {
   "cell_type": "code",
   "execution_count": 154,
   "id": "d8a42256",
   "metadata": {},
   "outputs": [
    {
     "name": "stdout",
     "output_type": "stream",
     "text": [
      "- Llista de la compra amb taronjes: {'Pomes': {'Qty': 5, '€': 0.42}, 'Peres': {'Qty': 3, '€': 0.66}, 'Taronjes': {'Qty': 2, '€': 0.52}}\n",
      "- Les peres valen 0.66\n",
      "- Hem comprat 3 fruites\n",
      "- Les Peres és la fruita més cara\n"
     ]
    }
   ],
   "source": [
    "#EXERCICI 4\n",
    "\n",
    "compra = { \"Pomes\" : {\"Qty\": 5, \"€\": 0.42}, \"Peres\" : {\"Qty\": 3, \"€\": 0.66}}\n",
    "\n",
    "taronja = {\"Taronjes\" : {\"Qty\": 2, \"€\": 0.52}}\n",
    "compra.update(taronja)\n",
    "print(\"- Llista de la compra amb taronjes:\",compra)\n",
    "\n",
    "print(\"- Les peres valen\",compra[\"Peres\"][\"€\"])\n",
    "\n",
    "print(\"- Hem comprat\",len(compra),\"fruites\")\n",
    "\n",
    "for i in compra:\n",
    "    if compra[i][\"€\"]==max(float(d['€']) for d in compra.values()):\n",
    "        print(\"- Les\",i, \"és la fruita més cara\")"
   ]
  },
  {
   "cell_type": "code",
   "execution_count": null,
   "id": "80e87b84",
   "metadata": {},
   "outputs": [],
   "source": []
  }
 ],
 "metadata": {
  "kernelspec": {
   "display_name": "Python 3 (ipykernel)",
   "language": "python",
   "name": "python3"
  },
  "language_info": {
   "codemirror_mode": {
    "name": "ipython",
    "version": 3
   },
   "file_extension": ".py",
   "mimetype": "text/x-python",
   "name": "python",
   "nbconvert_exporter": "python",
   "pygments_lexer": "ipython3",
   "version": "3.9.12"
  }
 },
 "nbformat": 4,
 "nbformat_minor": 5
}
