{
 "cells": [
  {
   "cell_type": "code",
   "execution_count": 1,
   "id": "4f45d1c1",
   "metadata": {},
   "outputs": [
    {
     "name": "stdout",
     "output_type": "stream",
     "text": [
      "suspès\n",
      "suspès\n",
      "suspès\n",
      "suspès\n",
      "suspès\n",
      "Aprovat\n",
      "Aprovat\n",
      "Notable\n",
      "Notable\n",
      "Excel·lent\n",
      "Excel·lent\n"
     ]
    }
   ],
   "source": [
    "#Exercici 1\n",
    "\n",
    "notes=[0,1,2,3,4,5,6,7,8,9,10]\n",
    "for i in notes:\n",
    "    if notes[i]<5:\n",
    "        print(\"suspès\")\n",
    "    elif notes[i]>=5 and notes[i]<7:\n",
    "        print(\"Aprovat\")\n",
    "    elif notes[i]>=7 and notes[i]<9:\n",
    "        print(\"Notable\")\n",
    "    else:\n",
    "        print(\"Excel·lent\")\n"
   ]
  },
  {
   "cell_type": "code",
   "execution_count": 7,
   "id": "e67bfb96",
   "metadata": {},
   "outputs": [
    {
     "name": "stdout",
     "output_type": "stream",
     "text": [
      "Enter the first number:1\n",
      "Enter the second number:2\n",
      "Your second number is bigger\n"
     ]
    }
   ],
   "source": [
    "#Exercici 2\n",
    "\n",
    "n1=int(input(\"Enter the first number:\"))\n",
    "n2=int(input(\"Enter the second number:\"))\n",
    "\n",
    "if n1>n2:\n",
    "    print(\"Your first number is bigger\")\n",
    "elif n1<n2:\n",
    "    print(\"Your second number is bigger\")"
   ]
  },
  {
   "cell_type": "code",
   "execution_count": 14,
   "id": "d1905657",
   "metadata": {},
   "outputs": [
    {
     "name": "stdout",
     "output_type": "stream",
     "text": [
      "Enter your name:Alex\n",
      "Enter a number:5\n",
      "Alex\n",
      "Alex\n",
      "Alex\n",
      "Alex\n",
      "Alex\n"
     ]
    }
   ],
   "source": [
    "#Exercici 3\n",
    "\n",
    "name=input(\"Enter your name:\")\n",
    "n=int(input(\"Enter a number:\"))\n",
    "\n",
    "i=0\n",
    "if n==0:\n",
    "    print(\"error\")\n",
    "elif n<30: #només perquè no hi hagin masses outputs però tècnicament seria infinit\n",
    "    while i<n:\n",
    "        print(name)\n",
    "        i=i+1\n",
    "else:\n",
    "    pass"
   ]
  },
  {
   "cell_type": "code",
   "execution_count": 40,
   "id": "78c971f4",
   "metadata": {},
   "outputs": [
    {
     "name": "stdout",
     "output_type": "stream",
     "text": [
      "list [1, 2, 3, 4, 4, 3, 2, 1] is symmetrical\n"
     ]
    }
   ],
   "source": [
    "#Exercici 4\n",
    "\n",
    "a=[9,9,4,7,2,5,1,8]\n",
    "b=[1,2,3,4,4,3,2,1]\n",
    "\n",
    "i=0\n",
    "c=0\n",
    "if len(b)%2==0:\n",
    "    while i<len(b):\n",
    "        if b[-i-1]==b[i]:\n",
    "            c=c+1\n",
    "        else:\n",
    "            print(\"list\",b,\"is not symmetrical\")\n",
    "            break\n",
    "        i=i+1\n",
    "else:\n",
    "    print(\"The list has odd elements\")\n",
    "    \n",
    "if c==len(b):\n",
    "    print(\"list\",b,\"is symmetrical\")"
   ]
  },
  {
   "cell_type": "code",
   "execution_count": 54,
   "id": "435063c3",
   "metadata": {},
   "outputs": [
    {
     "name": "stdout",
     "output_type": "stream",
     "text": [
      "2\n",
      "6\n",
      "Hi coincidexen 2 números\n"
     ]
    }
   ],
   "source": [
    "list = [3,4,2,0,2,3,6]\n",
    "\n",
    "c=0\n",
    "while i<len(list):\n",
    "    if list[i]==i:\n",
    "        print(list[i])\n",
    "        c=c+1\n",
    "    i=i+1\n",
    "print(\"Hi coincidexen\",c,\"números\")"
   ]
  }
 ],
 "metadata": {
  "kernelspec": {
   "display_name": "Python 3 (ipykernel)",
   "language": "python",
   "name": "python3"
  },
  "language_info": {
   "codemirror_mode": {
    "name": "ipython",
    "version": 3
   },
   "file_extension": ".py",
   "mimetype": "text/x-python",
   "name": "python",
   "nbconvert_exporter": "python",
   "pygments_lexer": "ipython3",
   "version": "3.9.12"
  }
 },
 "nbformat": 4,
 "nbformat_minor": 5
}
